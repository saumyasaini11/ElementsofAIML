{
  "nbformat": 4,
  "nbformat_minor": 0,
  "metadata": {
    "colab": {
      "provenance": [],
      "authorship_tag": "ABX9TyM3y86U9e+kZxAZ6lK4XmEu",
      "include_colab_link": true
    },
    "kernelspec": {
      "name": "python3",
      "display_name": "Python 3"
    },
    "language_info": {
      "name": "python"
    }
  },
  "cells": [
    {
      "cell_type": "markdown",
      "metadata": {
        "id": "view-in-github",
        "colab_type": "text"
      },
      "source": [
        "<a href=\"https://colab.research.google.com/github/saumyasaini11/ElementsofAIML/blob/main/AIML_LAB_4.ipynb\" target=\"_parent\"><img src=\"https://colab.research.google.com/assets/colab-badge.svg\" alt=\"Open In Colab\"/></a>"
      ]
    },
    {
      "cell_type": "code",
      "execution_count": null,
      "metadata": {
        "id": "Iw6oaiEMzAbc"
      },
      "outputs": [],
      "source": [
        "import pandas as pd\n",
        "from sklearn.preprocessing import StandardScaler, OneHotEncoder\n",
        "#This imports the StandardScaler and OneHot Encoder classes from sklearn.preprocessing.\n",
        "#StandardScaler is used for feature scaling (normalizing numerical data),\n",
        "# and OneHotEncoder is used for converting categorical variables into a format suitable for machine learning (one-hot encoding)."
      ]
    },
    {
      "cell_type": "code",
      "source": [
        "# Sample data\n",
        "data = {\n",
        "'color': ['red','green','blue', 'red'],\n",
        "'size': [10, 15, 20, 12],\n",
        "'price': [20, 30, 40, 25]\n",
        "}\n",
        "df = pd.DataFrame (data)\n",
        "# data: This creates a dictionary with three keys (color, size, and price),\n",
        "# where the values are lists representing different observations for each feature."
      ],
      "metadata": {
        "id": "a_0EWZG9zLVD"
      },
      "execution_count": null,
      "outputs": []
    },
    {
      "cell_type": "code",
      "source": [
        "#display original data\n",
        "print(\"original DataFrame:\")\n",
        "print(df, \"\\n\")\n",
        "\n",
        "# print(\"original DataFrame:\"): this prints a message that introduces the original DataFrame\n",
        "# print(df, \"\\n\"): this prints the DataFrame df, which is original unprocessed data,\n",
        "# followed by a newline character (\\n) to add spacing in the output\n"
      ],
      "metadata": {
        "colab": {
          "base_uri": "https://localhost:8080/"
        },
        "id": "xIkt-EO7zR0J",
        "outputId": "fa9a23c6-6ec7-44e8-e5ec-cbdda0cfb3b5"
      },
      "execution_count": null,
      "outputs": [
        {
          "output_type": "stream",
          "name": "stdout",
          "text": [
            "original DataFrame:\n",
            "   color  size  price\n",
            "0    red    10     20\n",
            "1  green    15     30\n",
            "2   blue    20     40\n",
            "3    red    12     25 \n",
            "\n"
          ]
        }
      ]
    },
    {
      "cell_type": "code",
      "source": [
        "# feature scaling\n",
        "scalar = StandardScaler()\n",
        "df[['size','price']] = scalar.fit_transform(df[['size','price']])\n",
        "\n",
        "\n",
        "# scaler = StandardScaler (): This creates an instance of the StandardScaler class.\n",
        "# The StandardScaler standardizes featuresy removing the mean and scaling to unit variance.\n",
        "# This means each feature will have a mean of 0 and a standard deviation of 1.\n",
        "# d'ste', 'price'1]: This selects the colums size and price from the Dataframe df, which are the numerical features that need to\n",
        "# scaler, fit transformaf(df[['size', 'price' ]]): The fit transform) method:\n",
        "# fit(): Calculates the mean and standard deviation for the selected columns (size, price).\n",
        "# transform): Uses those statistics to scale the features to have zero mean and unit variance.\n",
        "# df[['size', 'price']] = ...: This replaces the original size and price columns with their scaled versions."
      ],
      "metadata": {
        "id": "2irXM2aNzU-w"
      },
      "execution_count": null,
      "outputs": []
    },
    {
      "cell_type": "code",
      "source": [
        "# display scaled data\n",
        "print(\" DataFrame after feature scaling (standardScaler): \")\n",
        "print(df ,\"\\n\")"
      ],
      "metadata": {
        "colab": {
          "base_uri": "https://localhost:8080/"
        },
        "id": "NtmQ5y2Ezb6t",
        "outputId": "126fda25-69c3-481e-83c3-035836d0c755"
      },
      "execution_count": null,
      "outputs": [
        {
          "output_type": "stream",
          "name": "stdout",
          "text": [
            " DataFrame after feature scaling (standardScaler): \n",
            "   color      size     price\n",
            "0    red -1.128330 -1.183216\n",
            "1  green  0.199117  0.169031\n",
            "2   blue  1.526564  1.521278\n",
            "3    red -0.597351 -0.507093 \n",
            "\n"
          ]
        }
      ]
    },
    {
      "cell_type": "code",
      "source": [
        "# one hot encoding\n",
        "encoder = OneHotEncoder()\n",
        "encoded_data= encoder.fit_transform(df[['color']]).toarray()\n",
        "encoded_df = pd.DataFrame(encoded_data, columns=encoder.get_feature_names_out(['color']))\n",
        "\n",
        "#encoder = OneHotEncoder() : this creates an instance of the OnehotEncoder class,\n",
        "# which is used to perform one-hot encoding on categorical variables.\n",
        "\n",
        "#encoded_data= encoder.fit_transform(df[['color']]).toarray() :\n",
        "#df[['color']] : this selects the color column from the DataFrame which is the categorial feature that needs enoding.\n",
        "\n",
        "\n",
        "# fit transform(): This method first fits the encoder to the color data (learns unique categories like red, green, blue)\n",
        "# and then transforns the categorical data into a one-hot encoded format (binary variables indicating the presence of each category).\n",
        "# .toarray(): Converts the result from a sparse matrix to a dense NumPy array, which can be used in the next step.\n",
        "# encoded_df -=pd.DataFrane( encoded data, columns=encoder.get_feature_names_out (['color'])):\n",
        "# This converts the one-hot encoded data into a Dataframe encoded_df with column names\n",
        "# based on the original color categories (color_blue, color_green, color_red)."
      ],
      "metadata": {
        "id": "D2ut2Mbpzp6q"
      },
      "execution_count": null,
      "outputs": []
    },
    {
      "cell_type": "code",
      "source": [
        "print(\"One-Hot Encoded DataFrame:\")\n",
        "print(encoded_data, \"\\n\")"
      ],
      "metadata": {
        "colab": {
          "base_uri": "https://localhost:8080/"
        },
        "id": "W-vG0WB4zwvH",
        "outputId": "c2a508f8-6cb9-49e8-d1f3-fc47d7486f77"
      },
      "execution_count": null,
      "outputs": [
        {
          "output_type": "stream",
          "name": "stdout",
          "text": [
            "One-Hot Encoded DataFrame:\n",
            "[[0. 0. 1.]\n",
            " [0. 1. 0.]\n",
            " [1. 0. 0.]\n",
            " [0. 0. 1.]] \n",
            "\n"
          ]
        }
      ]
    },
    {
      "cell_type": "code",
      "source": [
        "print(\"One-Hot Encoded DataFrame:\")\n",
        "print(encoded_df, \"\\n\")"
      ],
      "metadata": {
        "colab": {
          "base_uri": "https://localhost:8080/"
        },
        "id": "bFdTve8CzzZL",
        "outputId": "1412c09a-67b5-4584-aece-066047ff3867"
      },
      "execution_count": null,
      "outputs": [
        {
          "output_type": "stream",
          "name": "stdout",
          "text": [
            "One-Hot Encoded DataFrame:\n",
            "   color_blue  color_green  color_red\n",
            "0         0.0          0.0        1.0\n",
            "1         0.0          1.0        0.0\n",
            "2         1.0          0.0        0.0\n",
            "3         0.0          0.0        1.0 \n",
            "\n"
          ]
        }
      ]
    },
    {
      "cell_type": "code",
      "source": [
        "# merge encoded data with original dataframe\n",
        "final_df = pd.concat([df.drop('color', axis=1), encoded_df], axis=1)\n",
        "\n",
        "# df.drop('color', axis=1): this drops the color column from the originsal dataframe df.\n",
        "# The axis=l argument specifies that the column is being dropped (if it were axis=0, it would refer to rows).\n",
        "\n",
        "# pd.concat ([df. drop ('color', axis=1), encoded df], axis=1):\n",
        "# This concatenates the DataFrame df (without the color column) and the one-hot encoded DataFrame encoded_df along the columns (axis=1\n",
        "# merging them into a single DataFrame.\n",
        "\n",
        "# final df: This stores the resulting merged DataFrame, which now includes the scaled numerical features (size, price)\n",
        "# and the one-hot encoded categorical features (color_blue, color_green, color_red)."
      ],
      "metadata": {
        "id": "IoluHiX-z7N6"
      },
      "execution_count": 9,
      "outputs": []
    },
    {
      "cell_type": "code",
      "source": [
        "# display final Dataframe\n",
        "print(\"Final DataFrame after merging One-Hot Encoded data:\")\n",
        "print(final_df, \"\\n\")"
      ],
      "metadata": {
        "colab": {
          "base_uri": "https://localhost:8080/"
        },
        "id": "U7cxJBUC1wiY",
        "outputId": "8d83e1ba-6ba3-4a72-8b07-686f457a5b06"
      },
      "execution_count": 10,
      "outputs": [
        {
          "output_type": "stream",
          "name": "stdout",
          "text": [
            "Final DataFrame after merging One-Hot Encoded data:\n",
            "       size     price  color_blue  color_green  color_red\n",
            "0 -1.128330 -1.183216         0.0          0.0        1.0\n",
            "1  0.199117  0.169031         0.0          1.0        0.0\n",
            "2  1.526564  1.521278         1.0          0.0        0.0\n",
            "3 -0.597351 -0.507093         0.0          0.0        1.0 \n",
            "\n"
          ]
        }
      ]
    }
  ]
}